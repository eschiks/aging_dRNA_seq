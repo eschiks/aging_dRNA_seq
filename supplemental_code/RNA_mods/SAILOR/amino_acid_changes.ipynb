{
 "cells": [
  {
   "cell_type": "markdown",
   "id": "1f2c39a9-93cf-423d-bc33-b553c00fd545",
   "metadata": {},
   "source": [
    "Make dictionary of amino acid types"
   ]
  },
  {
   "cell_type": "code",
   "execution_count": 4,
   "id": "2c70e289-b939-4217-bfb6-a964126f2214",
   "metadata": {},
   "outputs": [],
   "source": [
    "aa_dict={}\n",
    "with open('amino_acid_groups.txt') as aa:\n",
    "    for line in aa:\n",
    "        line=line.strip().split('\\t')\n",
    "        acids=line[1].split(',')\n",
    "        for acid in acids:\n",
    "            aa_dict[acid]=line[0]"
   ]
  },
  {
   "cell_type": "markdown",
   "id": "27d23fd2-9fc6-4c38-a645-92200b272f04",
   "metadata": {},
   "source": [
    "Go through new and old amino acids and mkae list of genes that change and don't change"
   ]
  },
  {
   "cell_type": "code",
   "execution_count": 13,
   "id": "e6978625-7109-4078-a659-89a7b178408f",
   "metadata": {},
   "outputs": [
    {
     "name": "stdout",
     "output_type": "stream",
     "text": [
      "same group: 11\n",
      "different group: 15\n"
     ]
    }
   ],
   "source": [
    "sites=set()\n",
    "same=0\n",
    "diff=0\n",
    "with open('old_cds_variant_cleaned.txt') as variants:\n",
    "    for line in variants:\n",
    "        line=line.strip().split()\n",
    "        site=line[0]\n",
    "        if site not in sites and line[6]=='missense_variant':\n",
    "            sites.add(site)\n",
    "            new,old=line[10].split('/')[0],line[10].split('/')[1]\n",
    "            if aa_dict[new]==aa_dict[old]: # same group\n",
    "                same+=1\n",
    "            else:\n",
    "                diff+=1\n",
    "        else:\n",
    "            continue\n",
    "print('same group:', same)\n",
    "print('different group:',diff)"
   ]
  },
  {
   "cell_type": "code",
   "execution_count": 14,
   "id": "cef86a9a-5b13-4c97-bfb6-d1ef828eada6",
   "metadata": {},
   "outputs": [
    {
     "name": "stdout",
     "output_type": "stream",
     "text": [
      "same group: 7\n",
      "different group: 14\n"
     ]
    }
   ],
   "source": [
    "sites=set()\n",
    "same=0\n",
    "diff=0\n",
    "with open('young_cds_variant_cleaned.txt') as variants:\n",
    "    for line in variants:\n",
    "        line=line.strip().split()\n",
    "        site=line[0]\n",
    "        if site not in sites and line[6]=='missense_variant':\n",
    "            sites.add(site)\n",
    "            new,old=line[10].split('/')[0],line[10].split('/')[1]\n",
    "            if aa_dict[new]==aa_dict[old]: # same group\n",
    "                same+=1\n",
    "            else:\n",
    "                diff+=1\n",
    "        else:\n",
    "            continue\n",
    "print('same group:', same)\n",
    "print('different group:',diff)"
   ]
  }
 ],
 "metadata": {
  "kernelspec": {
   "display_name": "Python 3 (ipykernel)",
   "language": "python",
   "name": "python3"
  },
  "language_info": {
   "codemirror_mode": {
    "name": "ipython",
    "version": 3
   },
   "file_extension": ".py",
   "mimetype": "text/x-python",
   "name": "python",
   "nbconvert_exporter": "python",
   "pygments_lexer": "ipython3",
   "version": "3.9.13"
  }
 },
 "nbformat": 4,
 "nbformat_minor": 5
}
