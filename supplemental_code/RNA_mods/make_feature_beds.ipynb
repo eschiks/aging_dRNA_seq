{
 "cells": [
  {
   "cell_type": "markdown",
   "id": "64736f68-8a4c-4d5a-a3ae-80abe08c81f0",
   "metadata": {},
   "source": [
    "Go through the GTF file and separate by protein coding genes (CDS, UTRs) and noncoding exons:"
   ]
  },
  {
   "cell_type": "code",
   "execution_count": 24,
   "id": "ab052326-66c4-4ba9-bbbe-0cb13ec2b2fd",
   "metadata": {},
   "outputs": [],
   "source": [
    "def find_gene_id(x):\n",
    "\tstart = x.index('gene_id') + len('gene_id')+2\n",
    "\tstart_to_end = x[start:]\n",
    "\tend = start_to_end.index(';')-1\n",
    "\treturn start_to_end[:end]\n",
    "\n",
    "def find_biotype(x):\n",
    "\tstart = x.index('gene_biotype') + len('gene_biotype')+2\n",
    "\tstart_to_end = x[start:]\n",
    "\tend = start_to_end.index(';')-1\n",
    "\treturn start_to_end[:end]\n",
    "\n",
    "with open('gtf_features.bed','w') as outfile:\n",
    "    with open('/expanse/lustre/scratch/eschiksn/temp_project/IAN_MAPPING/genome_files/c_elegans.PRJNA13758.WS279.canonical_geneset.sorted.gtf') as gtf:\n",
    "        for line in gtf:\n",
    "            line=line.strip().split('\\t')\n",
    "            if line[2]=='exon':\n",
    "                biotype=find_biotype(line[8])\n",
    "                if biotype!='protein_coding':\n",
    "                    chrom,start,end,strand,gene=line[0],str(int(line[3])-1),line[4],line[6],find_gene_id(line[8])\n",
    "                    name='noncoding_exon_'+gene\n",
    "                    out=[chrom,start,end,name,'60',strand]\n",
    "                    outfile.write('\\t'.join(out)+'\\n')\n",
    "            elif line[2]=='CDS' or 'utr' in line[2]:\n",
    "                chrom,start,end,strand,gene=line[0],str(int(line[3])-1),line[4],line[6],find_gene_id(line[8])\n",
    "                name=line[2]+'_'+gene\n",
    "                out=[chrom,start,end,name,'60',strand]\n",
    "                outfile.write('\\t'.join(out)+'\\n')"
   ]
  },
  {
   "cell_type": "markdown",
   "id": "4919625b-792f-4a67-97f5-a9fbf6969b86",
   "metadata": {},
   "source": [
    "Convert intergenic saf to bed"
   ]
  },
  {
   "cell_type": "code",
   "execution_count": 25,
   "id": "0900b145-da3e-4f6d-ab7a-a504ff921aa1",
   "metadata": {},
   "outputs": [],
   "source": [
    "with open('intergenic_regions.bed','w') as outfile:\n",
    "    with open('/expanse/lustre/scratch/eschiksn/temp_project/IAN_MAPPING/genome_files/intergenic_regions.saf') as saf:\n",
    "        for line in saf:\n",
    "            line=line.strip().split()\n",
    "            if line[0]=='GeneID':\n",
    "                continue\n",
    "            else:\n",
    "                chrom,start,end,name=line[1],str(int(line[2])-1),line[3],line[0]\n",
    "            out=[chrom,start,end,name,'60','+']\n",
    "            outfile.write('\\t'.join(out)+'\\n')       "
   ]
  },
  {
   "cell_type": "markdown",
   "id": "5e8d698a-32c4-420b-8ad1-8ebcc3e07194",
   "metadata": {},
   "source": [
    "Combine introns, intergenic, gtf features"
   ]
  },
  {
   "cell_type": "code",
   "execution_count": 34,
   "id": "c5e52cec-6b03-4da4-9506-4571b6a4b8d8",
   "metadata": {},
   "outputs": [],
   "source": [
    "!echo \"$(awk -F'\\t' -vOFS='\\t' '$4=\"intron_\"$4' introns.bed)\" > introns.bed"
   ]
  },
  {
   "cell_type": "code",
   "execution_count": 36,
   "id": "30f7b90e-5c1c-4a42-974a-917215e3293b",
   "metadata": {},
   "outputs": [],
   "source": [
    "!cat gtf_features.bed introns.bed intergenic_regions.bed > combined_features.bed"
   ]
  },
  {
   "cell_type": "markdown",
   "id": "64935cb8-0c6d-40b8-b31a-e05e4abcb56f",
   "metadata": {},
   "source": [
    "Intersect with features"
   ]
  },
  {
   "cell_type": "code",
   "execution_count": 1,
   "id": "4e8a9d5a-08ed-4291-be5f-6e7b706d8695",
   "metadata": {},
   "outputs": [],
   "source": [
    "!bedtools intersect -a young_all_reps_AG_filtered.bed -b combined_features.bed -wb > young_all_reps_AG_FEATURES.bed"
   ]
  },
  {
   "cell_type": "code",
   "execution_count": 80,
   "id": "82b88db2-819b-4008-b9b2-1210da659b94",
   "metadata": {},
   "outputs": [
    {
     "name": "stdout",
     "output_type": "stream",
     "text": [
      "4485 young_all_reps_AG_FEATURES.bed\n"
     ]
    }
   ],
   "source": [
    "!wc -l young_all_reps_AG_FEATURES.bed"
   ]
  },
  {
   "cell_type": "code",
   "execution_count": 81,
   "id": "5690caac-94e0-481d-95e5-30ced639f923",
   "metadata": {},
   "outputs": [],
   "source": [
    "!bedtools intersect -a old_all_reps_AG_filtered.bed -b combined_features.bed -wb > old_all_reps_AG_FEATURES.bed"
   ]
  },
  {
   "cell_type": "code",
   "execution_count": 83,
   "id": "ddac3a0d-4428-4c3d-b30b-e089abeb9d05",
   "metadata": {},
   "outputs": [
    {
     "name": "stdout",
     "output_type": "stream",
     "text": [
      "4657 old_all_reps_AG_FEATURES.bed\n"
     ]
    }
   ],
   "source": [
    "!wc -l old_all_reps_AG_FEATURES.bed"
   ]
  },
  {
   "cell_type": "markdown",
   "id": "97a3bac5-efa5-4f24-bcb2-1e6aab67069b",
   "metadata": {},
   "source": [
    "Because there are duplicates where one site overlaps multiple features (ie gene has multiple annotated UTRs, CDS that overlap), I need to filter this list to get it so that one site is only reported once. Also - need to account for strandedness for features that are not intergenic regions (intergenic regions don't require strandedness)"
   ]
  },
  {
   "cell_type": "code",
   "execution_count": 93,
   "id": "89db3012-2350-4d19-a7b5-84e295d05f7b",
   "metadata": {},
   "outputs": [],
   "source": [
    "with open('young_all_reps_AG_FEATURES_tmp.bed','w') as outfile:\n",
    "    with open('young_all_reps_AG_FEATURES.bed') as bed:\n",
    "        for line in bed:\n",
    "            line=line.strip().split()\n",
    "            gene=line[9][line[9].rfind('_')+1:]\n",
    "            feature=line[9][:line[9].rfind('_')].replace('_',' ')\n",
    "            feature=line[9][:line[9].rfind('_')].replace('_',' ')\n",
    "            if feature != 'intergenic region' and line[5] != line[11]:\n",
    "                continue \n",
    "            else:\n",
    "                site_info=line[0:6]\n",
    "                site_info.extend([gene,feature])\n",
    "                outfile.write('\\t'.join(site_info)+'\\n')    \n",
    "\n",
    "with open('old_all_reps_AG_FEATURES_tmp.bed','w') as outfile:\n",
    "    with open('old_all_reps_AG_FEATURES.bed') as bed:\n",
    "        for line in bed:\n",
    "            line=line.strip().split()\n",
    "            gene=line[9][line[9].rfind('_')+1:]\n",
    "            feature=line[9][:line[9].rfind('_')].replace('_',' ')\n",
    "            feature=line[9][:line[9].rfind('_')].replace('_',' ')\n",
    "            if feature != 'intergenic region' and line[5] != line[11]:\n",
    "                continue \n",
    "            else:\n",
    "                site_info=line[0:6]\n",
    "                site_info.extend([gene,feature])\n",
    "                outfile.write('\\t'.join(site_info)+'\\n')     "
   ]
  },
  {
   "cell_type": "code",
   "execution_count": 94,
   "id": "eef21dfb-8bb0-4e64-a20a-cfcbf2e86fe1",
   "metadata": {},
   "outputs": [
    {
     "name": "stdout",
     "output_type": "stream",
     "text": [
      "4338 young_all_reps_AG_FEATURES_tmp.bed\n",
      "4500 old_all_reps_AG_FEATURES_tmp.bed\n"
     ]
    }
   ],
   "source": [
    "!wc -l young_all_reps_AG_FEATURES_tmp.bed # count lines just to see  - removes ~100 sites from wrong strand\n",
    "!wc -l old_all_reps_AG_FEATURES_tmp.bed "
   ]
  },
  {
   "cell_type": "code",
   "execution_count": null,
   "id": "78772a37-69f4-4d81-8cbe-e2e3cbe99589",
   "metadata": {},
   "outputs": [],
   "source": []
  },
  {
   "cell_type": "markdown",
   "id": "6cdf7cd1-3247-4777-aeef-9a364aaf430d",
   "metadata": {},
   "source": [
    "Keep only unique sites"
   ]
  },
  {
   "cell_type": "code",
   "execution_count": 95,
   "id": "cf4637fa-14d8-400b-a1d5-2b3aefadc15a",
   "metadata": {},
   "outputs": [],
   "source": [
    "!bedtools sort -i young_all_reps_AG_FEATURES_tmp.bed | uniq > young_all_reps_AG_FEATURES_final.bed\n",
    "!bedtools sort -i old_all_reps_AG_FEATURES_tmp.bed | uniq > old_all_reps_AG_FEATURES_final.bed"
   ]
  },
  {
   "cell_type": "code",
   "execution_count": 96,
   "id": "eb98c40c-ff2d-4204-9333-ad2435f21fbd",
   "metadata": {},
   "outputs": [
    {
     "name": "stdout",
     "output_type": "stream",
     "text": [
      "  4014 old_all_reps_AG_FEATURES_final.bed\n",
      "  3911 young_all_reps_AG_FEATURES_final.bed\n",
      "  7925 total\n"
     ]
    }
   ],
   "source": [
    "!wc -l *FEATURES_final.bed"
   ]
  },
  {
   "cell_type": "markdown",
   "id": "77724d48-81b3-4f08-a692-4a73add78a28",
   "metadata": {},
   "source": [
    "How many of these sites overlap with repetitive elements? Make a bed file of rmsk repetitive elements to intersect with edit beds. Get length of repeat elements to compare enrichment in edited sites as well"
   ]
  },
  {
   "cell_type": "code",
   "execution_count": 97,
   "id": "b7c007a1-ba26-4191-8667-ec43aae82657",
   "metadata": {},
   "outputs": [],
   "source": [
    "repeat_length=0\n",
    "with open('repeats.bed','w') as outfile:\n",
    "    with open('rmsk.txt') as repeats:\n",
    "        for line in repeats:\n",
    "            line=line.strip().split()\n",
    "            chrom,start,end,name=line[5].replace('chr',''),line[6],line[7],line[10]\n",
    "            out=[chrom,start,end,name,'60','+']\n",
    "            repeat_length+=int(end)-int(start)\n",
    "            outfile.write('\\t'.join(out)+'\\n')"
   ]
  },
  {
   "cell_type": "markdown",
   "id": "cb9effde-213c-4d96-a6c9-6c468426c3b1",
   "metadata": {},
   "source": [
    "Intersect repeat elements with edit sites"
   ]
  },
  {
   "cell_type": "code",
   "execution_count": 124,
   "id": "89a10d4f-50c2-4712-b464-ee7d8769f7ad",
   "metadata": {},
   "outputs": [
    {
     "name": "stdout",
     "output_type": "stream",
     "text": [
      "2677 young_all_reps_AG_repeats.bed\n",
      "2715 old_all_reps_AG_repeats.bed\n"
     ]
    }
   ],
   "source": [
    "!bedtools intersect -a young_all_reps_AG_filtered.bed -b repeats.bed -wb > young_all_reps_AG_repeats.bed\n",
    "!wc -l young_all_reps_AG_repeats.bed\n",
    "!bedtools intersect -a old_all_reps_AG_filtered.bed -b repeats.bed -wb > old_all_reps_AG_repeats.bed\n",
    "!wc -l old_all_reps_AG_repeats.bed"
   ]
  },
  {
   "cell_type": "markdown",
   "id": "0c7aa56f-cdfb-492d-92db-5d9ccfa46ef1",
   "metadata": {},
   "source": [
    "Remove duplicated entries"
   ]
  },
  {
   "cell_type": "code",
   "execution_count": 136,
   "id": "0d50f665-cf95-4ee7-bf19-e7032e534c1d",
   "metadata": {},
   "outputs": [
    {
     "name": "stdout",
     "output_type": "stream",
     "text": [
      "2569 young_all_reps_AG_repeats_final.bed\n",
      "2576 old_all_reps_AG_repeats_final.bed\n"
     ]
    }
   ],
   "source": [
    "!awk '{print $1,$2,$3,$4,$5,$6,$10}' OFS='\\t' young_all_reps_AG_repeats.bed | bedtools sort | uniq > young_all_reps_AG_repeats_final.bed\n",
    "!wc -l young_all_reps_AG_repeats_final.bed # looks good\n",
    "!awk '{print $1,$2,$3,$4,$5,$6,$10}' OFS='\\t' old_all_reps_AG_repeats.bed | bedtools sort | uniq > old_all_reps_AG_repeats_final.bed\n",
    "!wc -l old_all_reps_AG_repeats_final.bed # looks good"
   ]
  },
  {
   "cell_type": "markdown",
   "id": "5a7a06dc-f047-49fb-bdc4-73a82e6e599e",
   "metadata": {},
   "source": [
    "Intersect 3'UTR miRNA sites with edit sites"
   ]
  },
  {
   "cell_type": "code",
   "execution_count": 154,
   "id": "d8170643-9de7-474d-93b1-ff87e9e6ec01",
   "metadata": {},
   "outputs": [
    {
     "name": "stdout",
     "output_type": "stream",
     "text": [
      "414 young_all_reps_AG_6mer.bed\n",
      "545 old_all_reps_AG_6mer.bed\n",
      "114 young_all_reps_AG_7mer.bed\n",
      "138 old_all_reps_AG_7mer.bed\n"
     ]
    }
   ],
   "source": [
    "!bedtools intersect -a young_all_reps_AG_filtered.bed -b miR_site_6mer_coords.bed -wb > young_all_reps_AG_6mer.bed\n",
    "!wc -l young_all_reps_AG_6mer.bed\n",
    "!bedtools intersect -a old_all_reps_AG_filtered.bed -b miR_site_6mer_coords.bed -wb > old_all_reps_AG_6mer.bed\n",
    "!wc -l old_all_reps_AG_6mer.bed\n",
    "!bedtools intersect -a young_all_reps_AG_filtered.bed -b miR_site_7mer_coords.bed -wb > young_all_reps_AG_7mer.bed\n",
    "!wc -l young_all_reps_AG_7mer.bed\n",
    "!bedtools intersect -a old_all_reps_AG_filtered.bed -b miR_site_7mer_coords.bed -wb > old_all_reps_AG_7mer.bed\n",
    "!wc -l old_all_reps_AG_7mer.bed"
   ]
  },
  {
   "cell_type": "markdown",
   "id": "141a249e-81bf-4a19-9580-fccaadad8ea8",
   "metadata": {},
   "source": [
    "In this case it is helpful to know if edits overlap with specific miRNAs, so don't want to remove duplicates. But for the purposes of counting sites duplicates should not be considered multiple times."
   ]
  },
  {
   "cell_type": "code",
   "execution_count": 155,
   "id": "6ffa6126-1c0f-4e57-b9bf-4c1dddbbf2a3",
   "metadata": {},
   "outputs": [
    {
     "name": "stdout",
     "output_type": "stream",
     "text": [
      "382\n",
      "495\n",
      "109\n",
      "133\n"
     ]
    }
   ],
   "source": [
    "!awk '{print $1,$2,$3,$4,$5,$6}' OFS='\\t' young_all_reps_AG_6mer.bed | bedtools sort | uniq | wc -l\n",
    "!awk '{print $1,$2,$3,$4,$5,$6}' OFS='\\t' old_all_reps_AG_6mer.bed | bedtools sort | uniq | wc -l\n",
    "!awk '{print $1,$2,$3,$4,$5,$6}' OFS='\\t' young_all_reps_AG_7mer.bed | bedtools sort | uniq | wc -l\n",
    "!awk '{print $1,$2,$3,$4,$5,$6}' OFS='\\t' old_all_reps_AG_7mer.bed | bedtools sort | uniq | wc -l"
   ]
  },
  {
   "cell_type": "markdown",
   "id": "bc637429-d753-45fe-99e1-7768e1f05964",
   "metadata": {},
   "source": [
    "Clean up files to save output"
   ]
  },
  {
   "cell_type": "code",
   "execution_count": 158,
   "id": "a1313f69-308e-406d-89c3-80daea135a4c",
   "metadata": {},
   "outputs": [],
   "source": [
    "!awk '{print $1,$2,$3,$4,$5,$6.$10}' OFS='\\t' young_all_reps_AG_6mer.bed | bedtools sort > young_all_reps_AG_6mer_final.bed\n",
    "!awk '{print $1,$2,$3,$4,$5,$6,$10}' OFS='\\t' old_all_reps_AG_6mer.bed | bedtools sort > old_all_reps_AG_6mer_final.bed\n",
    "!awk '{print $1,$2,$3,$4,$5,$6.$10}' OFS='\\t' young_all_reps_AG_7mer.bed | bedtools sort > young_all_reps_AG_7mer_final.bed\n",
    "!awk '{print $1,$2,$3,$4,$5,$6,$10}' OFS='\\t' old_all_reps_AG_7mer.bed | bedtools sort > old_all_reps_AG_7mer_final.bed"
   ]
  },
  {
   "cell_type": "markdown",
   "id": "8bafb948-a71a-46a6-803e-8ec3f9517d5c",
   "metadata": {},
   "source": [
    "Now do all this with psU sites!"
   ]
  },
  {
   "cell_type": "code",
   "execution_count": 143,
   "id": "850cc8ff-848e-4f8f-b053-9836a7fb4f0f",
   "metadata": {},
   "outputs": [
    {
     "name": "stdout",
     "output_type": "stream",
     "text": [
      "306 young_psu_consistent_sites.bed\n",
      "472 old_psu_consistent_sites.bed\n"
     ]
    }
   ],
   "source": [
    "!wc -l young_psu_consistent_sites.bed\n",
    "!wc -l old_psu_consistent_sites.bed"
   ]
  },
  {
   "cell_type": "code",
   "execution_count": 144,
   "id": "c04bea69-9ea6-4340-8a60-e183bd2ccee2",
   "metadata": {},
   "outputs": [],
   "source": [
    "!bedtools intersect -a young_psu_consistent_sites.bed -b combined_features.bed -wb > young_all_reps_psu_FEATURES.bed\n",
    "!bedtools intersect -a old_psu_consistent_sites.bed -b combined_features.bed -wb > old_all_reps_psu_FEATURES.bed"
   ]
  },
  {
   "cell_type": "code",
   "execution_count": 145,
   "id": "88d61634-5a11-48fd-8086-e18d0e200bea",
   "metadata": {},
   "outputs": [
    {
     "name": "stdout",
     "output_type": "stream",
     "text": [
      "543 young_all_reps_psu_FEATURES.bed\n",
      "860 old_all_reps_psu_FEATURES.bed\n"
     ]
    }
   ],
   "source": [
    "!wc -l young_all_reps_psu_FEATURES.bed\n",
    "!wc -l old_all_reps_psu_FEATURES.bed"
   ]
  },
  {
   "cell_type": "markdown",
   "id": "ea91afcd-252a-4aaa-b2b8-48ae5d8666ae",
   "metadata": {},
   "source": [
    "Because there are duplicates where one site overlaps multiple features (ie gene has multiple annotated UTRs, CDS that overlap), I need to filter this list to get it so that one site is only reported once. Also - need to account for strandedness for features that are not intergenic regions (intergenic regions don't require strandedness)"
   ]
  },
  {
   "cell_type": "code",
   "execution_count": 146,
   "id": "06313f46-3a9a-4670-8bb3-38bfa41b51e9",
   "metadata": {},
   "outputs": [],
   "source": [
    "with open('young_all_reps_psu_FEATURES_tmp.bed','w') as outfile:\n",
    "    with open('young_all_reps_psu_FEATURES.bed') as bed:\n",
    "        for line in bed:\n",
    "            line=line.strip().split()\n",
    "            gene=line[9][line[9].rfind('_')+1:]\n",
    "            feature=line[9][:line[9].rfind('_')].replace('_',' ')\n",
    "            feature=line[9][:line[9].rfind('_')].replace('_',' ')\n",
    "            if feature != 'intergenic region' and line[5] != line[11]:\n",
    "                continue \n",
    "            else:\n",
    "                site_info=line[0:6]\n",
    "                site_info.extend([gene,feature])\n",
    "                outfile.write('\\t'.join(site_info)+'\\n')    \n",
    "\n",
    "with open('old_all_reps_psu_FEATURES_tmp.bed','w') as outfile:\n",
    "    with open('old_all_reps_psu_FEATURES.bed') as bed:\n",
    "        for line in bed:\n",
    "            line=line.strip().split()\n",
    "            gene=line[9][line[9].rfind('_')+1:]\n",
    "            feature=line[9][:line[9].rfind('_')].replace('_',' ')\n",
    "            feature=line[9][:line[9].rfind('_')].replace('_',' ')\n",
    "            if feature != 'intergenic region' and line[5] != line[11]:\n",
    "                continue \n",
    "            else:\n",
    "                site_info=line[0:6]\n",
    "                site_info.extend([gene,feature])\n",
    "                outfile.write('\\t'.join(site_info)+'\\n')     "
   ]
  },
  {
   "cell_type": "code",
   "execution_count": 147,
   "id": "e1afbc81-e4d0-4be8-956a-4ded99de9478",
   "metadata": {},
   "outputs": [
    {
     "name": "stdout",
     "output_type": "stream",
     "text": [
      "521 young_all_reps_psu_FEATURES_tmp.bed\n",
      "829 old_all_reps_psu_FEATURES_tmp.bed\n"
     ]
    }
   ],
   "source": [
    "!wc -l young_all_reps_psu_FEATURES_tmp.bed # count lines just to see  - removes ~100 sites from wrong strand\n",
    "!wc -l old_all_reps_psu_FEATURES_tmp.bed "
   ]
  },
  {
   "cell_type": "markdown",
   "id": "d2269fec-006d-4200-af6c-cf12028ea09e",
   "metadata": {},
   "source": [
    "Keep only unique sites"
   ]
  },
  {
   "cell_type": "code",
   "execution_count": 148,
   "id": "fa6a3caf-fdf4-49c4-ac46-ea63985eb971",
   "metadata": {},
   "outputs": [],
   "source": [
    "!bedtools sort -i young_all_reps_psu_FEATURES_tmp.bed | uniq > young_all_reps_psu_FEATURES_final.bed\n",
    "!bedtools sort -i old_all_reps_psu_FEATURES_tmp.bed | uniq > old_all_reps_psu_FEATURES_final.bed"
   ]
  },
  {
   "cell_type": "code",
   "execution_count": 150,
   "id": "1ad5351a-c649-4d7d-ab9f-5f0524b35322",
   "metadata": {},
   "outputs": [
    {
     "name": "stdout",
     "output_type": "stream",
     "text": [
      "  488 old_all_reps_psu_FEATURES_final.bed\n",
      "  318 young_all_reps_psu_FEATURES_final.bed\n",
      "  806 total\n"
     ]
    }
   ],
   "source": [
    "!wc -l *psu*FEATURES_final.bed"
   ]
  },
  {
   "cell_type": "markdown",
   "id": "4fe14ed6-3073-41fb-9e5e-80b14ad1cdbd",
   "metadata": {},
   "source": [
    "How many of these sites overlap with repetitive elements? Make a bed file of rmsk repetitive elements to intersect with edit beds. Get length of repeat elements to compare enrichment in edited sites as well"
   ]
  },
  {
   "cell_type": "markdown",
   "id": "6f15332f-f43c-477f-8a26-4f19e8b0525c",
   "metadata": {},
   "source": [
    "Intersect repeat elements with edit sites"
   ]
  },
  {
   "cell_type": "code",
   "execution_count": 152,
   "id": "d3928338-05d6-4c04-b44b-94ffa62f72b4",
   "metadata": {},
   "outputs": [
    {
     "name": "stdout",
     "output_type": "stream",
     "text": [
      "87 young_all_reps_psu_repeats.bed\n",
      "110 old_all_reps_psu_repeats.bed\n"
     ]
    }
   ],
   "source": [
    "!bedtools intersect -a young_psu_consistent_sites.bed -b repeats.bed -wb > young_all_reps_psu_repeats.bed\n",
    "!wc -l young_all_reps_psu_repeats.bed\n",
    "!bedtools intersect -a old_psu_consistent_sites.bed -b repeats.bed -wb > old_all_reps_psu_repeats.bed\n",
    "!wc -l old_all_reps_psu_repeats.bed"
   ]
  },
  {
   "cell_type": "markdown",
   "id": "af461aaf-e201-4d67-86b9-528569b1f50f",
   "metadata": {},
   "source": [
    "Remove duplicated entries"
   ]
  },
  {
   "cell_type": "code",
   "execution_count": 163,
   "id": "94f60f7b-6b9e-4c96-ac12-a8c8fae5cf2a",
   "metadata": {},
   "outputs": [
    {
     "name": "stdout",
     "output_type": "stream",
     "text": [
      "87 young_all_reps_psu_repeats_final.bed\n",
      "110 old_all_reps_psu_repeats_final.bed\n"
     ]
    }
   ],
   "source": [
    "!awk '{print $1,$2,$3,$4,$5,$6,$10}' OFS='\\t' young_all_reps_psu_repeats.bed | bedtools sort | uniq > young_all_reps_psu_repeats_final.bed\n",
    "!wc -l young_all_reps_psu_repeats_final.bed # looks good\n",
    "!awk '{print $1,$2,$3,$4,$5,$6,$10}' OFS='\\t' old_all_reps_psu_repeats.bed | bedtools sort | uniq > old_all_reps_psu_repeats_final.bed\n",
    "!wc -l old_all_reps_psu_repeats_final.bed # looks good"
   ]
  },
  {
   "cell_type": "markdown",
   "id": "4a0bdbe8-5860-48b0-af4d-1df471833f42",
   "metadata": {},
   "source": [
    "Intersect 3'UTR miRNA sites with edit sites"
   ]
  },
  {
   "cell_type": "code",
   "execution_count": 160,
   "id": "a830c9e9-4469-4c14-9cca-f898f8324252",
   "metadata": {},
   "outputs": [
    {
     "name": "stdout",
     "output_type": "stream",
     "text": [
      "5 young_all_reps_psu_6mer.bed\n",
      "14 old_all_reps_psu_6mer.bed\n",
      "3 young_all_reps_psu_7mer.bed\n",
      "3 old_all_reps_psu_7mer.bed\n"
     ]
    }
   ],
   "source": [
    "!bedtools intersect -a young_psu_consistent_sites.bed -b miR_site_6mer_coords.bed -wb > young_all_reps_psu_6mer.bed\n",
    "!wc -l young_all_reps_psu_6mer.bed\n",
    "!bedtools intersect -a old_psu_consistent_sites.bed -b miR_site_6mer_coords.bed -wb > old_all_reps_psu_6mer.bed\n",
    "!wc -l old_all_reps_psu_6mer.bed\n",
    "!bedtools intersect -a young_psu_consistent_sites.bed -b miR_site_7mer_coords.bed -wb > young_all_reps_psu_7mer.bed\n",
    "!wc -l young_all_reps_psu_7mer.bed\n",
    "!bedtools intersect -a old_psu_consistent_sites.bed -b miR_site_7mer_coords.bed -wb > old_all_reps_psu_7mer.bed\n",
    "!wc -l old_all_reps_psu_7mer.bed"
   ]
  },
  {
   "cell_type": "markdown",
   "id": "9c6e048e-0e2c-4f05-907b-dece6d2b03df",
   "metadata": {},
   "source": [
    "In this case it is helpful to know if edits overlap with specific miRNAs, so don't want to remove duplicates. But for the purposes of counting sites duplicates should not be considered multiple times."
   ]
  },
  {
   "cell_type": "code",
   "execution_count": 161,
   "id": "691bc8a3-cba0-40b8-9155-80d5af94e084",
   "metadata": {},
   "outputs": [
    {
     "name": "stdout",
     "output_type": "stream",
     "text": [
      "4\n",
      "13\n",
      "3\n",
      "3\n"
     ]
    }
   ],
   "source": [
    "!awk '{print $1,$2,$3,$4,$5,$6}' OFS='\\t' young_all_reps_psu_6mer.bed | bedtools sort | uniq | wc -l\n",
    "!awk '{print $1,$2,$3,$4,$5,$6}' OFS='\\t' old_all_reps_psu_6mer.bed | bedtools sort | uniq | wc -l\n",
    "!awk '{print $1,$2,$3,$4,$5,$6}' OFS='\\t' young_all_reps_psu_7mer.bed | bedtools sort | uniq | wc -l\n",
    "!awk '{print $1,$2,$3,$4,$5,$6}' OFS='\\t' old_all_reps_psu_7mer.bed | bedtools sort | uniq | wc -l"
   ]
  },
  {
   "cell_type": "markdown",
   "id": "6130c3ee-8b86-460c-9c15-6b03571a2cd8",
   "metadata": {},
   "source": [
    "Clean up files to save output"
   ]
  },
  {
   "cell_type": "code",
   "execution_count": 162,
   "id": "132be1df-ae17-4fb2-828e-31c103da1858",
   "metadata": {},
   "outputs": [],
   "source": [
    "!awk '{print $1,$2,$3,$4,$5,$6.$10}' OFS='\\t' young_all_reps_psu_6mer.bed | bedtools sort > young_all_reps_psu_6mer_final.bed\n",
    "!awk '{print $1,$2,$3,$4,$5,$6,$10}' OFS='\\t' old_all_reps_psu_6mer.bed | bedtools sort > old_all_reps_psu_6mer_final.bed\n",
    "!awk '{print $1,$2,$3,$4,$5,$6.$10}' OFS='\\t' young_all_reps_psu_7mer.bed | bedtools sort > young_all_reps_psu_7mer_final.bed\n",
    "!awk '{print $1,$2,$3,$4,$5,$6,$10}' OFS='\\t' old_all_reps_psu_7mer.bed | bedtools sort > old_all_reps_psu_7mer_final.bed"
   ]
  },
  {
   "cell_type": "code",
   "execution_count": 164,
   "id": "6b9fba8a-7454-41e5-ad79-d39d0049a187",
   "metadata": {},
   "outputs": [
    {
     "name": "stdout",
     "output_type": "stream",
     "text": [
      "/expanse/lustre/scratch/eschiksn/temp_project/IAN_MAPPING/RNA_mods\n"
     ]
    }
   ],
   "source": [
    "!pwd"
   ]
  },
  {
   "cell_type": "code",
   "execution_count": 165,
   "id": "7fc83b36-55d9-4a73-bd00-ad9aebbb3610",
   "metadata": {},
   "outputs": [
    {
     "name": "stdout",
     "output_type": "stream",
     "text": [
      "old_all_reps_AG_6mer_final.bed\t    young_all_reps_AG_6mer_final.bed\n",
      "old_all_reps_AG_7mer_final.bed\t    young_all_reps_AG_7mer_final.bed\n",
      "old_all_reps_AG_FEATURES_final.bed  young_all_reps_AG_FEATURES_final.bed\n",
      "old_all_reps_AG_repeats_final.bed   young_all_reps_AG_repeats_final.bed\n"
     ]
    }
   ],
   "source": [
    "!ls *AG*final*"
   ]
  },
  {
   "cell_type": "code",
   "execution_count": null,
   "id": "8ef23aa9-254a-4271-937e-f93cfdb57c4f",
   "metadata": {},
   "outputs": [],
   "source": []
  }
 ],
 "metadata": {
  "kernelspec": {
   "display_name": "Python 3 (ipykernel)",
   "language": "python",
   "name": "python3"
  },
  "language_info": {
   "codemirror_mode": {
    "name": "ipython",
    "version": 3
   },
   "file_extension": ".py",
   "mimetype": "text/x-python",
   "name": "python",
   "nbconvert_exporter": "python",
   "pygments_lexer": "ipython3",
   "version": "3.10.9"
  }
 },
 "nbformat": 4,
 "nbformat_minor": 5
}
