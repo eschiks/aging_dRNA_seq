{
 "cells": [
  {
   "cell_type": "markdown",
   "id": "bec94be5-c807-48d8-9ed5-587e2d9ba133",
   "metadata": {},
   "source": [
    "Find introns that are longer than the median coding gene length (1956nt according to WormBook)"
   ]
  },
  {
   "cell_type": "code",
   "execution_count": 41,
   "id": "4bcfdc24-0275-442a-830a-2f453facef2c",
   "metadata": {
    "tags": []
   },
   "outputs": [],
   "source": [
    "with open('long_introns.bed','w') as outfile:   \n",
    "    with open('collapse_new_10p_filtered_named.isoforms.bed') as bed:\n",
    "        for line in bed:\n",
    "            line=line.strip().split()\n",
    "            starts=line[11][:line[11].rfind(',')].split(',')\n",
    "            sizes=line[10][:line[10].rfind(',')].split(',')\n",
    "            ends=[]\n",
    "            for idx,start in enumerate(starts):\n",
    "                end=int(start)+int(sizes[idx])\n",
    "                ends.append(end)\n",
    "            for idx,end in enumerate(ends):\n",
    "                if len(ends)==idx+1:\n",
    "                    continue\n",
    "                else:\n",
    "                    intron_length=int(starts[idx+1])-end\n",
    "                    if intron_length>=1956:\n",
    "                        outfile.write('\\t'.join(line)+'\\n')\n",
    "                        break"
   ]
  },
  {
   "cell_type": "markdown",
   "id": "11e0a579-704b-46c1-95e6-c8b662edd791",
   "metadata": {},
   "source": [
    "Just make a list of intron lengths to see if there are any obvious fusions from that"
   ]
  },
  {
   "cell_type": "code",
   "execution_count": 7,
   "id": "7825a157-41a0-4333-b9df-8760af9eb520",
   "metadata": {},
   "outputs": [],
   "source": [
    "with open('intron_lengths.tsv','w') as outfile:   \n",
    "    with open('collapse_new_10p_filtered_named.isoforms.bed') as bed:\n",
    "        for line in bed:\n",
    "            line=line.strip().split()\n",
    "            starts=line[11][:line[11].rfind(',')].split(',')\n",
    "            sizes=line[10][:line[10].rfind(',')].split(',')\n",
    "            ends=[]\n",
    "            for idx,start in enumerate(starts):\n",
    "                end=int(start)+int(sizes[idx])\n",
    "                ends.append(end)\n",
    "            for idx,end in enumerate(ends):\n",
    "                if len(ends)==idx+1:\n",
    "                    continue\n",
    "                else:\n",
    "                    intron_length=int(starts[idx+1])-end\n",
    "                    outfile.write(line[3]+'\\t'+str(intron_length)+'\\n')"
   ]
  },
  {
   "cell_type": "code",
   "execution_count": 8,
   "id": "ed0f772d-3780-4fe0-a7b1-93630fe58e73",
   "metadata": {},
   "outputs": [],
   "source": [
    "!sort -nrk 2,2 intron_lengths.tsv > intron_lengths.sorted.tsv"
   ]
  },
  {
   "cell_type": "code",
   "execution_count": 9,
   "id": "3cf3b495-0548-42de-8b1b-9ceee23e0ec9",
   "metadata": {},
   "outputs": [
    {
     "name": "stdout",
     "output_type": "stream",
     "text": [
      "Y71H2AM.5.2_WBGene00022170\t86515\n",
      "productive_splice_isoform_220_WBGene00011884\t32121\n",
      "ZK909.2h.1-0_WBGene00002189\t21230\n",
      "C37F5.1a.1_WBGene00002990\t20948\n",
      "Y41C4A.4c.1_WBGene00000793\t18615\n",
      "productive_splice_isoform_76_WBGene00000793\t18615\n",
      "T12A2.1.1_WBGene00020436\t17240\n",
      "Y71D11A.3a.1_WBGene00022104\t17216\n",
      "T28B11.1a.2_WBGene00012117\t17091\n",
      "ZK1073.2.1_WBGene00014214\t16515\n"
     ]
    }
   ],
   "source": [
    "!head intron_lengths.sorted.tsv"
   ]
  },
  {
   "cell_type": "code",
   "execution_count": 13,
   "id": "5202edc8-73a7-4029-913c-e65ecdb5b530",
   "metadata": {},
   "outputs": [],
   "source": [
    "def find_wb_id(x):\n",
    "\tstart = x.index('gene_id') + len('gene_id')+2\n",
    "\tstart_to_end = x[start:]\n",
    "\tend = start_to_end.index(';')-1\n",
    "\treturn start_to_end[:end]\n",
    "\n",
    "def find_biotype(x):\n",
    "\tstart = x.index('gene_biotype') + len('gene_biotype')+2\n",
    "\tstart_to_end = x[start:]\n",
    "\tend = start_to_end.index(';')-1\n",
    "\treturn start_to_end[:end]\n",
    "\n",
    "with open('exons.bed','w') as outfile:\n",
    "    with open('/expanse/lustre/scratch/eschiksn/temp_project/IAN_MAPPING/genome_files/c_elegans.PRJNA13758.WS279.canonical_geneset.sorted.gtf') as gtf:\n",
    "        for line in gtf:\n",
    "            line=line.strip().split('\\t')\n",
    "            if line[2]=='exon' and find_biotype(line[8])=='protein_coding':\n",
    "                wb=find_wb_id(line[8])\n",
    "                chrom,start,end,strand=line[0],str(int(line[3])+1),line[4],line[6]\n",
    "                out=[chrom,start,end,wb,'60',strand]\n",
    "                if int(start)<int(end):\n",
    "                    outfile.write('\\t'.join(out)+'\\n')"
   ]
  },
  {
   "cell_type": "code",
   "execution_count": 15,
   "id": "b937f7c4-3c7f-4116-9883-ebf49b48b86d",
   "metadata": {},
   "outputs": [],
   "source": [
    "!bedtools intersect -a long_introns.bed -b exons.bed -split -wb -wa -s > tmp.bed"
   ]
  },
  {
   "cell_type": "code",
   "execution_count": 10,
   "id": "686e5fdb-0cbb-489b-8acd-c7491159231c",
   "metadata": {},
   "outputs": [],
   "source": [
    "!bedtools intersect -a long_introns.bed -b exons.bed -wb -wa -s > tmp_unsplit.bed"
   ]
  },
  {
   "cell_type": "code",
   "execution_count": 11,
   "id": "c602fd1f-7bac-4ad0-a4c2-69f1e49a9d67",
   "metadata": {},
   "outputs": [],
   "source": [
    "gene_overlap_dict={}\n",
    "\n",
    "with open('tmp.bed') as intersect:\n",
    "    for line in intersect:\n",
    "        line=line.strip().split()\n",
    "        isoform=line[3]\n",
    "        overlap=line[15]\n",
    "        if isoform not in gene_overlap_dict:\n",
    "            gene_overlap_dict[isoform]=[line[15]]\n",
    "        elif line[15] not in gene_overlap_dict[isoform]:\n",
    "                gene_overlap_dict[isoform].append(line[15])"
   ]
  },
  {
   "cell_type": "code",
   "execution_count": 12,
   "id": "d116aa28-0390-449f-8d73-5a36c286057f",
   "metadata": {},
   "outputs": [],
   "source": [
    "gene_overlap_dict={}\n",
    "\n",
    "with open('tmp_unsplit.bed') as intersect:\n",
    "    for line in intersect:\n",
    "        line=line.strip().split()\n",
    "        isoform=line[3]\n",
    "        overlap=line[15]\n",
    "        if isoform not in gene_overlap_dict:\n",
    "            gene_overlap_dict[isoform]=[line[15]]\n",
    "        elif line[15] not in gene_overlap_dict[isoform]:\n",
    "                gene_overlap_dict[isoform].append(line[15])"
   ]
  },
  {
   "cell_type": "code",
   "execution_count": 13,
   "id": "5a0e8dba-135b-41be-bc9e-f6a27f187231",
   "metadata": {},
   "outputs": [],
   "source": [
    "with open('long_intron_multi_gene_isoforms_unsplit.txt','w') as outfile:\n",
    "    for isoform in gene_overlap_dict:\n",
    "        if len(gene_overlap_dict[isoform])>=2:\n",
    "            outfile.write(isoform+'\\n')"
   ]
  },
  {
   "cell_type": "code",
   "execution_count": 20,
   "id": "20c412fe-66e6-416a-918a-05b5e86ebd9c",
   "metadata": {},
   "outputs": [],
   "source": [
    "with open('long_intron_multi_gene_isoforms.txt','w') as outfile:\n",
    "    for isoform in gene_overlap_dict:\n",
    "        if len(gene_overlap_dict[isoform])>=2:\n",
    "            outfile.write(isoform+'\\n')"
   ]
  }
 ],
 "metadata": {
  "kernelspec": {
   "display_name": "Python 3 (ipykernel)",
   "language": "python",
   "name": "python3"
  },
  "language_info": {
   "codemirror_mode": {
    "name": "ipython",
    "version": 3
   },
   "file_extension": ".py",
   "mimetype": "text/x-python",
   "name": "python",
   "nbconvert_exporter": "python",
   "pygments_lexer": "ipython3",
   "version": "3.9.13"
  }
 },
 "nbformat": 4,
 "nbformat_minor": 5
}
